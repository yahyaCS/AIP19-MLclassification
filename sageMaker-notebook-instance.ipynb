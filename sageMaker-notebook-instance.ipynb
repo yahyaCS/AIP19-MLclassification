{
 "cells": [
  {
   "cell_type": "code",
   "execution_count": 2,
   "id": "e9fb4097-1309-41ba-a5e2-7266688904d5",
   "metadata": {},
   "outputs": [
    {
     "name": "stdout",
     "output_type": "stream",
     "text": [
      "Region: us-east-1\n",
      "Role ARN: arn:aws:iam::909817712600:role/SageMakerS3Access\n"
     ]
    }
   ],
   "source": [
    "import sagemaker\n",
    "from sagemaker import Session\n",
    "import boto3\n",
    "\n",
    "sess = sagemaker.Session()\n",
    "region = sess.boto_region_name\n",
    "role = sagemaker.get_execution_role()   \n",
    "sm_client = boto3.client('sagemaker', region_name=region)\n",
    "\n",
    "print(\"Region:\", region)\n",
    "print(\"Role ARN:\", role)"
   ]
  },
  {
   "cell_type": "code",
   "execution_count": 3,
   "id": "ee6c4dc3-573e-4545-9e5e-8bca2f95b87b",
   "metadata": {},
   "outputs": [
    {
     "name": "stdout",
     "output_type": "stream",
     "text": [
      "Train S3 URI: s3://ml-classification-aip19/usedcars_xgb_train.csv\n",
      "Validation S3 URI: s3://ml-classification-aip19/usedcars_xgb_test.csv\n",
      "Model output path: s3://ml-classification-aip19/sagemaker-outputs/usedcars-xgb/\n"
     ]
    }
   ],
   "source": [
    "bucket = 'ml-classification-aip19'\n",
    "prefix = 'usedcars-xgb'\n",
    "\n",
    "train_s3 = f's3://ml-classification-aip19/usedcars_xgb_train.csv'\n",
    "val_s3   = f's3://ml-classification-aip19/usedcars_xgb_test.csv'\n",
    "output_path = f's3://ml-classification-aip19/sagemaker-outputs/usedcars-xgb/'\n",
    "\n",
    "print(\"Train S3 URI:\", train_s3)\n",
    "print(\"Validation S3 URI:\", val_s3)\n",
    "print(\"Model output path:\", output_path)"
   ]
  },
  {
   "cell_type": "code",
   "execution_count": 4,
   "id": "95c9dbfe-1831-433d-abf4-905bcaa11f73",
   "metadata": {},
   "outputs": [
    {
     "name": "stdout",
     "output_type": "stream",
     "text": [
      "Using XGBoost image: 683313688378.dkr.ecr.us-east-1.amazonaws.com/sagemaker-xgboost:1.5-1\n",
      "Estimator created.\n"
     ]
    }
   ],
   "source": [
    "from sagemaker.image_uris import retrieve\n",
    "from sagemaker.estimator import Estimator\n",
    "\n",
    "xgb_version = '1.5-1'\n",
    "xgb_image = retrieve('xgboost', region, xgb_version)\n",
    "\n",
    "print(\"Using XGBoost image:\", xgb_image)\n",
    "\n",
    "xgb_estimator = Estimator(\n",
    "    image_uri = xgb_image,\n",
    "    role = role,\n",
    "    instance_count = 1,\n",
    "    instance_type = 'ml.m5.large',   # small but fine for development\n",
    "    output_path = output_path,\n",
    "    sagemaker_session = sess\n",
    ")\n",
    "\n",
    "print(\"Estimator created.\")"
   ]
  },
  {
   "cell_type": "code",
   "execution_count": 5,
   "id": "a311afd8-3c1d-4c1f-bfc5-91b37b649b98",
   "metadata": {},
   "outputs": [
    {
     "name": "stdout",
     "output_type": "stream",
     "text": [
      "Hyperparameters set.\n"
     ]
    }
   ],
   "source": [
    "xgb_estimator.set_hyperparameters(\n",
    "    objective='binary:logistic',\n",
    "    num_round=100,\n",
    "    eta=0.1,\n",
    "    max_depth=6,\n",
    "    subsample=0.8,\n",
    "    colsample_bytree=0.8,\n",
    "    eval_metric='auc',\n",
    "    scale_pos_weight=2.949303\n",
    ")\n",
    "\n",
    "print(\"Hyperparameters set.\")"
   ]
  },
  {
   "cell_type": "code",
   "execution_count": 6,
   "id": "08cb244f-a57d-4ced-adad-3146347f3bac",
   "metadata": {},
   "outputs": [
    {
     "name": "stderr",
     "output_type": "stream",
     "text": [
      "INFO:sagemaker:Creating training-job with name: sagemaker-xgboost-2025-09-14-01-36-45-511\n"
     ]
    },
    {
     "name": "stdout",
     "output_type": "stream",
     "text": [
      "Started training job: sagemaker-xgboost-2025-09-14-01-36-45-511\n",
      "Check SageMaker Console > Training jobs to monitor progress.\n"
     ]
    }
   ],
   "source": [
    "from sagemaker.inputs import TrainingInput\n",
    "import time\n",
    "\n",
    "train_input = TrainingInput(s3_data=train_s3, content_type='text/csv')\n",
    "val_input = TrainingInput(s3_data=val_s3, content_type='text/csv')\n",
    "\n",
    "xgb_estimator.fit({'train': train_input, 'validation': val_input}, wait=False)\n",
    "\n",
    "job_name = xgb_estimator.latest_training_job.name\n",
    "print(\"Started training job:\", job_name)\n",
    "print(\"Check SageMaker Console > Training jobs to monitor progress.\")"
   ]
  },
  {
   "cell_type": "code",
   "execution_count": 7,
   "id": "346af0e4-8049-4b3e-b970-da67581729cd",
   "metadata": {},
   "outputs": [
    {
     "name": "stdout",
     "output_type": "stream",
     "text": [
      "Job name: sagemaker-xgboost-2025-09-14-01-36-45-511\n",
      "Status: Completed\n",
      "Model artifact (S3): s3://ml-classification-aip19/sagemaker-outputs/usedcars-xgb/sagemaker-xgboost-2025-09-14-01-36-45-511/output/model.tar.gz\n"
     ]
    }
   ],
   "source": [
    "import time\n",
    "\n",
    "job_name = xgb_estimator.latest_training_job.name\n",
    "resp = sm_client.describe_training_job(TrainingJobName=job_name)\n",
    "status = resp['TrainingJobStatus']\n",
    "print(\"Job name:\", job_name)\n",
    "print(\"Status:\", status)\n",
    "\n",
    "if 'ModelArtifacts' in resp and 'S3ModelArtifacts' in resp['ModelArtifacts']:\n",
    "    print(\"Model artifact (S3):\", resp['ModelArtifacts']['S3ModelArtifacts'])\n",
    "else:\n",
    "    print(\"Model artifact not yet available.\")\n"
   ]
  },
  {
   "cell_type": "code",
   "execution_count": null,
   "id": "3e8a0069-f42f-4a83-bbd3-cb9d00a21b75",
   "metadata": {},
   "outputs": [],
   "source": []
  }
 ],
 "metadata": {
  "kernelspec": {
   "display_name": "conda_python3",
   "language": "python",
   "name": "conda_python3"
  },
  "language_info": {
   "codemirror_mode": {
    "name": "ipython",
    "version": 3
   },
   "file_extension": ".py",
   "mimetype": "text/x-python",
   "name": "python",
   "nbconvert_exporter": "python",
   "pygments_lexer": "ipython3",
   "version": "3.10.18"
  }
 },
 "nbformat": 4,
 "nbformat_minor": 5
}
